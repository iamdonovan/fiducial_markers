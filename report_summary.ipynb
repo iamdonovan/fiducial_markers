{
 "cells": [
  {
   "cell_type": "markdown",
   "id": "5fcc4c45-0a64-412c-a078-d4020f029139",
   "metadata": {},
   "source": [
    "# calibration report summary\n",
    "\n",
    "This notebook calculates summary information for `data/combined_reports.csv`, a collection of information manually extracted from\n",
    "the [USGS Camera Calibration Reports](https://calval.cr.usgs.gov/cameracal/reports.html) database"
   ]
  },
  {
   "cell_type": "code",
   "execution_count": null,
   "id": "e9360f22-f13f-4839-a19f-ff4e49eea8cd",
   "metadata": {},
   "outputs": [],
   "source": [
    "import pandas as pd\n",
    "\n",
    "cal_info = pd.read_csv('data/combined_reports.csv')\n",
    "cal_info['camera_make'] = cal_info['camera_make'].fillna('').astype(str)\n",
    "cal_info['camera_model'] = cal_info['camera_model'].fillna('').astype(str)\n",
    "cal_info['camera_name'] = cal_info[['camera_make', 'camera_model']].agg(' '.join, axis=1).str.strip()\n",
    "\n",
    "cal_info = cal_info.drop_duplicates(subset=['cal_file', 'camera_name'])"
   ]
  },
  {
   "cell_type": "code",
   "execution_count": null,
   "id": "58edc781-3d63-4ade-9b6b-042d0b1ff691",
   "metadata": {},
   "outputs": [],
   "source": [
    "print(f\"Total number of unique Calibration Reports: {len(cal_info)}.\")"
   ]
  },
  {
   "cell_type": "markdown",
   "id": "ff12e5c5-104a-4d73-835f-0b23f3219cfe",
   "metadata": {},
   "source": [
    "Number of reports by camera make/model:"
   ]
  },
  {
   "cell_type": "code",
   "execution_count": null,
   "id": "c2e0d32d-ff5e-401b-82bc-31510bd37eb8",
   "metadata": {},
   "outputs": [],
   "source": [
    "print(cal_info.value_counts('camera_name').to_markdown())"
   ]
  }
 ],
 "metadata": {
  "kernelspec": {
   "display_name": "Python 3 (ipykernel)",
   "language": "python",
   "name": "python3"
  },
  "language_info": {
   "codemirror_mode": {
    "name": "ipython",
    "version": 3
   },
   "file_extension": ".py",
   "mimetype": "text/x-python",
   "name": "python",
   "nbconvert_exporter": "python",
   "pygments_lexer": "ipython3",
   "version": "3.13.0"
  }
 },
 "nbformat": 4,
 "nbformat_minor": 5
}
