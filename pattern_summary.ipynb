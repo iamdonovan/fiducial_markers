{
 "cells": [
  {
   "cell_type": "markdown",
   "id": "07d308fd-8deb-4bf8-a577-009bc391ca30",
   "metadata": {},
   "source": [
    "## fiducial marker pattern summary\n",
    "\n",
    "This notebook calculates summary information for different aerial camera fiducial marker patterns, based on browse images and calibration reports downloaded from [EarthExplorer](https://earthexplorer.usgs.gov/). The summary information includes:\n",
    "\n",
    "- fiducial marker separation distance (mean ± standard deviation, median)\n",
    "- where available, fiducial marker location: x, y position (mean ± standard deviation) and angle with respect to the principal point coordinate system (in degrees)\n",
    "- number of reports, summarized by camera names\n",
    "\n",
    "For examples of what each pattern looks like, see https://spymicmac.readthedocs.io/en/cameras.html."
   ]
  },
  {
   "cell_type": "code",
   "execution_count": null,
   "id": "79424383-cb7d-4194-ae2e-916c0d2d750a",
   "metadata": {},
   "outputs": [],
   "source": [
    "import pandas as pd\n",
    "from scripts import tools\n",
    "\n",
    "\n",
    "cal_info = pd.read_csv('data/calibration_information_cleaned.csv')\n",
    "cal_info['camera_make'] = cal_info['camera_make'].fillna('').astype(str)\n",
    "cal_info['camera_model'] = cal_info['camera_model'].fillna('').astype(str)\n",
    "cal_info['camera_name'] = cal_info[['camera_make', 'camera_model']].agg(' '.join, axis=1).str.strip()\n",
    "\n",
    "cal_info = cal_info.drop_duplicates(subset=['cal_file', 'camera_name', 'marker_style'])"
   ]
  },
  {
   "cell_type": "code",
   "execution_count": null,
   "id": "4b7df8a5-c2e4-4a45-badd-d23813e519d7",
   "metadata": {},
   "outputs": [],
   "source": [
    "print(\"Number of reports for each marker pattern:\")\n",
    "print(cal_info.value_counts('marker_style')) # print a summary of the number of reports for each marker style"
   ]
  },
  {
   "cell_type": "markdown",
   "id": "1a018e71-33e8-4597-af41-346f9452dc29",
   "metadata": {},
   "source": [
    "## wing-type fiducials\n",
    "\n",
    "Print statistics tables for the following pattern types:\n",
    "\n",
    "- hollow_wing\n",
    "- small_flat\n",
    "- large_flat\n",
    "- tall_wing\n",
    "- curved_flat\n",
    "- round_wing\n",
    "- sharp_wing\n",
    "\n",
    "Also print the count of camera names corresponding to each pattern."
   ]
  },
  {
   "cell_type": "code",
   "execution_count": null,
   "id": "42b8da79-8023-4281-9368-c1998ef6c55f",
   "metadata": {
    "scrolled": true
   },
   "outputs": [],
   "source": [
    "tools.nice_table(cal_info.loc[cal_info.marker_style == 'hollow_wing'])\n",
    "\n",
    "print(\"\\nNumber of reports for each camera make/model:\")\n",
    "print(cal_info.loc[cal_info.marker_style == 'hollow_wing'].value_counts('camera_name'))"
   ]
  },
  {
   "cell_type": "code",
   "execution_count": null,
   "id": "2874aa34-45cb-46fb-b626-040522529abd",
   "metadata": {},
   "outputs": [],
   "source": [
    "tools.nice_table(cal_info.loc[cal_info.marker_style == 'small_flat'])\n",
    "\n",
    "print(\"\\nNumber of reports for each camera make/model:\")\n",
    "print(cal_info.loc[cal_info.marker_style == 'small_flat'].value_counts('camera_name'))"
   ]
  },
  {
   "cell_type": "code",
   "execution_count": null,
   "id": "1056ee94-5358-4fea-a49d-fc0553f25d29",
   "metadata": {},
   "outputs": [],
   "source": [
    "tools.nice_table(cal_info.loc[cal_info.marker_style == 'large_flat'])\n",
    "\n",
    "print(\"\\nNumber of reports for each camera make/model:\")\n",
    "print(cal_info.loc[cal_info.marker_style == 'large_flat'].value_counts('camera_name'))"
   ]
  },
  {
   "cell_type": "code",
   "execution_count": null,
   "id": "892353e8-a7c1-487c-9c9f-69cbead44544",
   "metadata": {},
   "outputs": [],
   "source": [
    "tools.nice_table(cal_info.loc[cal_info.marker_style == 'tall_wing'])\n",
    "\n",
    "print(\"\\nNumber of reports for each camera make/model:\")\n",
    "print(cal_info.loc[cal_info.marker_style == 'tall_wing'].value_counts('camera_name'))"
   ]
  },
  {
   "cell_type": "code",
   "execution_count": null,
   "id": "e3251202-0bc0-4e54-94ca-c625a9cc5d12",
   "metadata": {},
   "outputs": [],
   "source": [
    "tools.nice_table(cal_info.loc[cal_info.marker_style == 'curved_flat'])\n",
    "\n",
    "print(\"\\nNumber of reports for each camera make/model:\")\n",
    "print(cal_info.loc[cal_info.marker_style == 'curved_flat'].value_counts('camera_name'))"
   ]
  },
  {
   "cell_type": "code",
   "execution_count": null,
   "id": "4e0de9ba-d366-4cec-8f13-55461a33b714",
   "metadata": {},
   "outputs": [],
   "source": [
    "tools.nice_table(cal_info.loc[cal_info.marker_style == 'curved_wing'])\n",
    "\n",
    "print(\"\\nNumber of reports for each camera make/model:\")\n",
    "print(cal_info.loc[cal_info.marker_style == 'curved_wing'].value_counts('camera_name'))"
   ]
  },
  {
   "cell_type": "code",
   "execution_count": null,
   "id": "5514edcf-5ab2-4e8f-8c98-531f6441fde3",
   "metadata": {},
   "outputs": [],
   "source": [
    "tools.nice_table(cal_info.loc[cal_info.marker_style == 'sharp_wing'])\n",
    "\n",
    "print(\"\\nNumber of reports for each camera make/model:\")\n",
    "print(cal_info.loc[cal_info.marker_style == 'sharp_wing'].value_counts('camera_name'))"
   ]
  },
  {
   "cell_type": "markdown",
   "id": "cae34301-bddf-4af1-bc26-a50ddf1002f2",
   "metadata": {},
   "source": [
    "## fairchild\n",
    "\n",
    "Print statistics tables for the following pattern types:\n",
    "\n",
    "- midside_notch\n",
    "- corner_notch\n",
    "- t5_notch\n",
    "\n",
    "Also print the count of camera names corresponding to each pattern."
   ]
  },
  {
   "cell_type": "code",
   "execution_count": null,
   "id": "b9629b5a-a28c-4269-97da-11e55159b40f",
   "metadata": {},
   "outputs": [],
   "source": [
    "tools.nice_table(cal_info.loc[cal_info.marker_style == 'midside_notch'])\n",
    "\n",
    "print(\"\\nNumber of reports for each camera make/model:\")\n",
    "print(cal_info.loc[cal_info.marker_style == 'midside_notch'].value_counts('camera_name'))"
   ]
  },
  {
   "cell_type": "code",
   "execution_count": null,
   "id": "d8bc1303-005b-4966-8541-768a79cabfaa",
   "metadata": {},
   "outputs": [],
   "source": [
    "tools.nice_table(cal_info.loc[cal_info.marker_style == 'corner_notch'])\n",
    "\n",
    "print(\"\\nNumber of reports for each camera make/model:\")\n",
    "print(cal_info.loc[cal_info.marker_style == 'corner_notch'].value_counts('camera_name'))"
   ]
  },
  {
   "cell_type": "code",
   "execution_count": null,
   "id": "e6bc06a7-eecd-4f12-9497-3471ae7c0c68",
   "metadata": {},
   "outputs": [],
   "source": [
    "tools.nice_table(cal_info.loc[cal_info.marker_style == 't5_notch'])\n",
    "\n",
    "print(\"\\nNumber of reports for each camera make/model:\")\n",
    "print(cal_info.loc[cal_info.marker_style == 't5_notch'].value_counts('camera_name'))"
   ]
  },
  {
   "cell_type": "markdown",
   "id": "20163164-ba13-4194-98ca-5291f0bac79d",
   "metadata": {},
   "source": [
    "## park\n",
    "\n",
    "Print statistics tables for 'park_round' pattern."
   ]
  },
  {
   "cell_type": "code",
   "execution_count": null,
   "id": "9336e5da-b6dd-474a-a4d0-66ab782c7e04",
   "metadata": {},
   "outputs": [],
   "source": [
    "tools.nice_table(cal_info.loc[cal_info.marker_style == 'park_round'])\n",
    "\n",
    "print(\"\\nNumber of reports for each camera make/model:\")\n",
    "print(cal_info.loc[cal_info.marker_style == 'park_round'].value_counts('camera_name'))"
   ]
  },
  {
   "cell_type": "markdown",
   "id": "22da3c56-4d2b-49a6-8c75-68130f364eb6",
   "metadata": {},
   "source": [
    "## wild\n",
    "\n",
    "Print statistics tables for the following pattern types:\n",
    "\n",
    "- light_corner\n",
    "- wild_corner\n",
    "- wild_all_cross\n",
    "- wild_mid_crosshair\n",
    "- wild_all_crosshair\n",
    "\n",
    "Also print the count of camera names corresponding to each pattern."
   ]
  },
  {
   "cell_type": "code",
   "execution_count": null,
   "id": "6a80c394-ef65-406b-9c23-4aeb4a7a92f6",
   "metadata": {},
   "outputs": [],
   "source": [
    "tools.nice_table(cal_info.loc[cal_info.marker_style == 'light_corner'])\n",
    "\n",
    "print(\"\\nNumber of reports for each camera make/model:\")\n",
    "print(cal_info.loc[cal_info.marker_style == 'light_corner'].value_counts('camera_name'))"
   ]
  },
  {
   "cell_type": "code",
   "execution_count": null,
   "id": "ad27c058-6de2-493c-8b26-f26e5e5bd62e",
   "metadata": {},
   "outputs": [],
   "source": [
    "tools.nice_table(cal_info.loc[cal_info.marker_style == 'wild_corner'])\n",
    "\n",
    "print(\"\\nNumber of reports for each camera make/model:\")\n",
    "print(cal_info.loc[cal_info.marker_style == 'wild_corner'].value_counts('camera_name'))"
   ]
  },
  {
   "cell_type": "code",
   "execution_count": null,
   "id": "d1ae77d0-1584-4bdc-b4c8-21b4c0766d81",
   "metadata": {},
   "outputs": [],
   "source": [
    "tools.nice_table(cal_info.loc[cal_info.marker_style == 'wild_all_cross'])\n",
    "\n",
    "print(\"\\nNumber of reports for each camera make/model:\")\n",
    "print(cal_info.loc[cal_info.marker_style == 'wild_all_cross'].value_counts('camera_name'))"
   ]
  },
  {
   "cell_type": "code",
   "execution_count": null,
   "id": "ec4bae68-8fe3-40ca-a446-1b0852c02f6e",
   "metadata": {},
   "outputs": [],
   "source": [
    "tools.nice_table(cal_info.loc[cal_info.marker_style == 'wild_mid_crosshair'])\n",
    "\n",
    "print(\"\\nNumber of reports for each camera make/model:\")\n",
    "print(cal_info.loc[cal_info.marker_style == 'wild_mid_crosshair'].value_counts('camera_name'))"
   ]
  },
  {
   "cell_type": "code",
   "execution_count": null,
   "id": "cb5a808e-c2ec-486a-8582-8303626057a5",
   "metadata": {},
   "outputs": [],
   "source": [
    "tools.nice_table(cal_info.loc[cal_info.marker_style == 'wild_all_crosshair'])\n",
    "\n",
    "print(\"\\nNumber of reports for each camera make/model:\")\n",
    "print(cal_info.loc[cal_info.marker_style == 'wild_all_crosshair'].value_counts('camera_name'))"
   ]
  },
  {
   "cell_type": "markdown",
   "id": "de38f5ba-721f-4ac5-b8e0-7e116cf5a0aa",
   "metadata": {},
   "source": [
    "## zeiss rmk\n",
    "\n",
    "Print statistics tables for the following pattern types:\n",
    "\n",
    "- zeiss_mid\n",
    "- zeiss_fixed\n",
    "- zeiss_float\n",
    "\n",
    "Also print the count of camera names corresponding to each pattern."
   ]
  },
  {
   "cell_type": "code",
   "execution_count": null,
   "id": "ac305881-b2a0-455b-be61-873257e94e6a",
   "metadata": {},
   "outputs": [],
   "source": [
    "tools.nice_table(cal_info.loc[cal_info.marker_style == 'zeiss_mid'])\n",
    "\n",
    "print(\"\\nNumber of reports for each camera make/model:\")\n",
    "print(cal_info.loc[cal_info.marker_style == 'zeiss_mid'].value_counts('camera_name'))"
   ]
  },
  {
   "cell_type": "code",
   "execution_count": null,
   "id": "fa2650c5-5c3e-4e0e-bc78-8903618b47e0",
   "metadata": {},
   "outputs": [],
   "source": [
    "tools.nice_table(cal_info.loc[cal_info.marker_style == 'zeiss_float'])\n",
    "\n",
    "print(\"\\nNumber of reports for each camera make/model:\")\n",
    "print(cal_info.loc[cal_info.marker_style == 'zeiss_float'].value_counts('camera_name'))"
   ]
  },
  {
   "cell_type": "code",
   "execution_count": null,
   "id": "942edc24-7a4d-4163-bc1e-d31f007c6775",
   "metadata": {},
   "outputs": [],
   "source": [
    "tools.nice_table(cal_info.loc[cal_info.marker_style == 'zeiss_fixed'])\n",
    "\n",
    "print(\"\\nNumber of reports for each camera make/model:\")\n",
    "print(cal_info.loc[cal_info.marker_style == 'zeiss_fixed'].value_counts('camera_name'))"
   ]
  }
 ],
 "metadata": {
  "kernelspec": {
   "display_name": "Python 3 (ipykernel)",
   "language": "python",
   "name": "python3"
  },
  "language_info": {
   "codemirror_mode": {
    "name": "ipython",
    "version": 3
   },
   "file_extension": ".py",
   "mimetype": "text/x-python",
   "name": "python",
   "nbconvert_exporter": "python",
   "pygments_lexer": "ipython3",
   "version": "3.13.0"
  }
 },
 "nbformat": 4,
 "nbformat_minor": 5
}
