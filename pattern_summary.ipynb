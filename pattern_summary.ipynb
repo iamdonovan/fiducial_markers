{
 "cells": [
  {
   "cell_type": "markdown",
   "id": "07d308fd-8deb-4bf8-a577-009bc391ca30",
   "metadata": {},
   "source": [
    "## fiducial marker pattern summary\n",
    "\n",
    "This notebook calculates summary information for different aerial camera fiducial marker patterns, based on browse images and calibration reports downloaded from [EarthExplorer](https://earthexplorer.usgs.gov/). The summary information includes:\n",
    "\n",
    "- fiducial marker separation distance (mean ± standard deviation, median)\n",
    "- where available, fiducial marker location: x, y position (mean ± standard deviation) and angle with respect to the principal point coordinate system (in degrees)\n",
    "- number of reports, summarized by camera names\n",
    "\n",
    "For examples of what each pattern looks like, see https://spymicmac.readthedocs.io/en/cameras.html."
   ]
  },
  {
   "cell_type": "code",
   "execution_count": null,
   "id": "900c33eb-bb06-4943-9bdb-aa86b02c7d85",
   "metadata": {},
   "outputs": [],
   "source": [
    "from scipy import stats\n",
    "import pandas as pd\n",
    "import numpy as np\n",
    "import matplotlib.pyplot as plt\n",
    "\n",
    "\n",
    "def pivot_measures(row: pd.Series) -> pd.DataFrame:\n",
    "    \"\"\"\n",
    "    Pivot a Series corresponding to measurements from a calibration report,\n",
    "    into a table with fiducial marker x,y and angle values.\n",
    "\n",
    "    :param row: the Series object to pivot\n",
    "    :returns: the pivoted DataFrame with columns x, y, and angle\n",
    "    \"\"\"\n",
    "    fid_names = [f\"P{nn}\" for nn in range(1, 9)]\n",
    "    col_names = ['ll', 'ur', 'ul', 'lr', 'ml', 'mr', 'mt', 'mb']\n",
    "\n",
    "    x_vals = [getattr(row, f\"{cc}x\") for cc in col_names]\n",
    "    y_vals = [getattr(row, f\"{cc}y\") for cc in col_names]\n",
    "\n",
    "    pivoted = pd.DataFrame(data={'name': fid_names, 'x': x_vals, 'y': y_vals})\n",
    "    pivoted['angle'] = pivoted.apply(compute_angle, axis=1)\n",
    "\n",
    "    return pivoted\n",
    "\n",
    "\n",
    "def compute_angle(row: pd.Series) -> float:\n",
    "    \"\"\"\n",
    "    Calculae the angle of a fiducial marker using the x, y values in a Series.\n",
    "\n",
    "    :param row: the Series with x, y values corresponding to the marker x, y location\n",
    "    :returns: the angle computed using numpy.arctan2\n",
    "    \"\"\"\n",
    "    return np.arctan2(row.y, row.x)\n",
    "    \n",
    "\n",
    "def compute_statistics(info: pd.DataFrame) -> tuple[pd.DataFrame, pd.DataFrame, int, int]:\n",
    "    \"\"\"\n",
    "    Compute statistics for both the fiducial marker separation and location (if provided),\n",
    "    using a DataFrame where each row corresponds to calibration report information.\n",
    "\n",
    "    :paran info: the DataFrame to compute the statistics for\n",
    "    :returns:\n",
    "        - **dists** - a DataFrame with the mean (± std. dev) and median marker separation for each\n",
    "          pair of fiducial markers\n",
    "        - **fids** - a DataFrame with the mean (± std. dev) x,y position and mean angle for each\n",
    "          fiducial marker (if at least one set of marker locations is available)\n",
    "        - **nrep_dists** - the number of unique reports used for the marker separations\n",
    "        - **nrep_fids** - the number of unique reports used for the marker locations\n",
    "\n",
    "    \"\"\"\n",
    "    # want: angle mean, angle std. dev, mean x, mean y for each fiducial marker\n",
    "    # diagonal, straight marker separation (mean ± std, median)\n",
    "    dists = pd.DataFrame()\n",
    "\n",
    "    nrep_dists = len(info)\n",
    "    \n",
    "    for meas in ['lr_dist', 'tb_dist', 'llur_dist', 'ullr_dist']:\n",
    "        if np.count_nonzero(~info[meas].isna()) > 0:\n",
    "            dists.loc[meas, 'mean'] = f\"{info[meas].mean():.3f} ± {info[meas].std():.3f}\"\n",
    "            dists.loc[meas, 'median'] = f\"{info[meas].median():.3f}\"\n",
    "\n",
    "    dists = dists.reset_index(names='markers').replace(\n",
    "        {'lr_dist': 'P5 - P6', 'tb_dist': 'P7 - P8', 'llur_dist': 'P1 - P2', 'ullr_dist': 'P3 - P4'}\n",
    "    ).set_index('markers')\n",
    "    \n",
    "    pivoted = pd.concat(\n",
    "                  [pivot_measures(row) for row in info.itertuples()], \n",
    "                  ignore_index=True\n",
    "              ).dropna(subset=['x', 'y'], how='all')\n",
    "\n",
    "\n",
    "    if len(pivoted) > 0:\n",
    "        grouped = pivoted.groupby('name')\n",
    "        nrep_fids = int(grouped['x'].count().median())    \n",
    "        xmean = grouped['x'].mean()\n",
    "        xmean -= xmean.min()\n",
    "        \n",
    "        ymean = grouped['y'].mean()\n",
    "        ymean = -ymean - (-ymean).min()\n",
    "        \n",
    "        std_x = grouped['x'].std()\n",
    "        std_y = grouped['y'].std()\n",
    "    \n",
    "        fids = pd.DataFrame()\n",
    "        fids['x'] = xmean.apply(lambda s: f\"{s:.3f}\") + ' ± ' + std_x.apply(lambda s: f\"{s:.3f}\")\n",
    "        fids['y'] = ymean.apply(lambda s: f\"{s:.3f}\") + ' ± ' + std_y.apply(lambda s: f\"{s:.3f}\")\n",
    "        \n",
    "        fids['angle'] = (np.rad2deg(grouped['angle'].apply(stats.circmean)) % 360).apply(lambda s: f\"{s:.3f}\")\n",
    "    else:\n",
    "        fids = None\n",
    "        nrep_fids = 0\n",
    "    \n",
    "    return dists, fids, nrep_dists, nrep_fids\n",
    "\n",
    "\n",
    "def nice_table(info: pd.DataFrame) -> None:\n",
    "    \"\"\"\n",
    "    Print markdown-formatted tables for the fiducial marker separation and location statistics.\n",
    "\n",
    "    :paran info: the DataFrame to compute the statistics for\n",
    "    \"\"\"\n",
    "    dists, fids, nrep_dists, nrep_fids = compute_statistics(info)\n",
    "    \n",
    "    outstr = f\"**Marker Separation (n = {nrep_dists} reports)**\\n\\n\" + dists.to_markdown(tablefmt='grid')\n",
    "    \n",
    "    if fids is not None:\n",
    "        outstr += f\"\\n\\n**Marker Location (n = {nrep_fids} reports)**\\n\\n\" + fids.to_markdown(tablefmt='grid')    \n",
    "\n",
    "    print(outstr.replace(':', '-'))"
   ]
  },
  {
   "cell_type": "code",
   "execution_count": null,
   "id": "79424383-cb7d-4194-ae2e-916c0d2d750a",
   "metadata": {},
   "outputs": [],
   "source": [
    "cal_info = pd.read_csv('data/calibration_information_cleaned.csv')\n",
    "cal_info['camera_make'] = cal_info['camera_make'].fillna('').astype(str)\n",
    "cal_info['camera_model'] = cal_info['camera_model'].fillna('').astype(str)\n",
    "cal_info['camera_name'] = cal_info[['camera_make', 'camera_model']].agg(' '.join, axis=1).str.strip()\n",
    "\n",
    "cal_info = cal_info.drop_duplicates(subset=['cal_file', 'camera_name', 'marker_style'])"
   ]
  },
  {
   "cell_type": "code",
   "execution_count": null,
   "id": "4b7df8a5-c2e4-4a45-badd-d23813e519d7",
   "metadata": {},
   "outputs": [],
   "source": [
    "print(\"Number of reports for each marker pattern:\")\n",
    "print(cal_info.value_counts('marker_style')) # print a summary of the number of reports for each marker style"
   ]
  },
  {
   "cell_type": "markdown",
   "id": "1a018e71-33e8-4597-af41-346f9452dc29",
   "metadata": {},
   "source": [
    "## wing-type fiducials\n",
    "\n",
    "Print statistics tables for the following pattern types:\n",
    "\n",
    "- hollow_wing\n",
    "- small_flat\n",
    "- large_flat\n",
    "- tall_wing\n",
    "- curved_flat\n",
    "- round_wing\n",
    "- sharp_wing\n",
    "\n",
    "Also print the count of camera names corresponding to each pattern."
   ]
  },
  {
   "cell_type": "code",
   "execution_count": null,
   "id": "42b8da79-8023-4281-9368-c1998ef6c55f",
   "metadata": {
    "scrolled": true
   },
   "outputs": [],
   "source": [
    "nice_table(cal_info.loc[cal_info.marker_style == 'hollow_wing'])\n",
    "\n",
    "print(\"\\nNumber of reports for each camera make/model:\")\n",
    "print(cal_info.loc[cal_info.marker_style == 'hollow_wing'].value_counts('camera_name'))"
   ]
  },
  {
   "cell_type": "code",
   "execution_count": null,
   "id": "2874aa34-45cb-46fb-b626-040522529abd",
   "metadata": {},
   "outputs": [],
   "source": [
    "nice_table(cal_info.loc[cal_info.marker_style == 'small_flat'])\n",
    "\n",
    "print(\"\\nNumber of reports for each camera make/model:\")\n",
    "print(cal_info.loc[cal_info.marker_style == 'small_flat'].value_counts('camera_name'))"
   ]
  },
  {
   "cell_type": "code",
   "execution_count": null,
   "id": "1056ee94-5358-4fea-a49d-fc0553f25d29",
   "metadata": {},
   "outputs": [],
   "source": [
    "nice_table(cal_info.loc[cal_info.marker_style == 'large_flat'])\n",
    "\n",
    "print(\"\\nNumber of reports for each camera make/model:\")\n",
    "print(cal_info.loc[cal_info.marker_style == 'large_flat'].value_counts('camera_name'))"
   ]
  },
  {
   "cell_type": "code",
   "execution_count": null,
   "id": "892353e8-a7c1-487c-9c9f-69cbead44544",
   "metadata": {},
   "outputs": [],
   "source": [
    "nice_table(cal_info.loc[cal_info.marker_style == 'tall_wing'])\n",
    "\n",
    "print(\"\\nNumber of reports for each camera make/model:\")\n",
    "print(cal_info.loc[cal_info.marker_style == 'tall_wing'].value_counts('camera_name'))"
   ]
  },
  {
   "cell_type": "code",
   "execution_count": null,
   "id": "e3251202-0bc0-4e54-94ca-c625a9cc5d12",
   "metadata": {},
   "outputs": [],
   "source": [
    "nice_table(cal_info.loc[cal_info.marker_style == 'curved_flat'])\n",
    "\n",
    "print(\"\\nNumber of reports for each camera make/model:\")\n",
    "print(cal_info.loc[cal_info.marker_style == 'curved_flat'].value_counts('camera_name'))"
   ]
  },
  {
   "cell_type": "code",
   "execution_count": null,
   "id": "4e0de9ba-d366-4cec-8f13-55461a33b714",
   "metadata": {},
   "outputs": [],
   "source": [
    "nice_table(cal_info.loc[cal_info.marker_style == 'curved_wing'])\n",
    "\n",
    "print(\"\\nNumber of reports for each camera make/model:\")\n",
    "print(cal_info.loc[cal_info.marker_style == 'curved_wing'].value_counts('camera_name'))"
   ]
  },
  {
   "cell_type": "code",
   "execution_count": null,
   "id": "5514edcf-5ab2-4e8f-8c98-531f6441fde3",
   "metadata": {},
   "outputs": [],
   "source": [
    "nice_table(cal_info.loc[cal_info.marker_style == 'sharp_wing'])\n",
    "\n",
    "print(\"\\nNumber of reports for each camera make/model:\")\n",
    "print(cal_info.loc[cal_info.marker_style == 'sharp_wing'].value_counts('camera_name'))"
   ]
  },
  {
   "cell_type": "markdown",
   "id": "cae34301-bddf-4af1-bc26-a50ddf1002f2",
   "metadata": {},
   "source": [
    "## fairchild\n",
    "\n",
    "Print statistics tables for the following pattern types:\n",
    "\n",
    "- midside_notch\n",
    "- corner_notch\n",
    "- t5_notch\n",
    "\n",
    "Also print the count of camera names corresponding to each pattern."
   ]
  },
  {
   "cell_type": "code",
   "execution_count": null,
   "id": "b9629b5a-a28c-4269-97da-11e55159b40f",
   "metadata": {},
   "outputs": [],
   "source": [
    "nice_table(cal_info.loc[cal_info.marker_style == 'midside_notch'])\n",
    "\n",
    "print(\"\\nNumber of reports for each camera make/model:\")\n",
    "print(cal_info.loc[cal_info.marker_style == 'midside_notch'].value_counts('camera_name'))"
   ]
  },
  {
   "cell_type": "code",
   "execution_count": null,
   "id": "d8bc1303-005b-4966-8541-768a79cabfaa",
   "metadata": {},
   "outputs": [],
   "source": [
    "nice_table(cal_info.loc[cal_info.marker_style == 'corner_notch'])\n",
    "\n",
    "print(\"\\nNumber of reports for each camera make/model:\")\n",
    "print(cal_info.loc[cal_info.marker_style == 'corner_notch'].value_counts('camera_name'))"
   ]
  },
  {
   "cell_type": "code",
   "execution_count": null,
   "id": "e6bc06a7-eecd-4f12-9497-3471ae7c0c68",
   "metadata": {},
   "outputs": [],
   "source": [
    "nice_table(cal_info.loc[cal_info.marker_style == 't5_notch'])\n",
    "\n",
    "print(\"\\nNumber of reports for each camera make/model:\")\n",
    "print(cal_info.loc[cal_info.marker_style == 't5_notch'].value_counts('camera_name'))"
   ]
  },
  {
   "cell_type": "markdown",
   "id": "20163164-ba13-4194-98ca-5291f0bac79d",
   "metadata": {},
   "source": [
    "## park\n",
    "\n",
    "Print statistics tables for 'park_round' pattern."
   ]
  },
  {
   "cell_type": "code",
   "execution_count": null,
   "id": "9336e5da-b6dd-474a-a4d0-66ab782c7e04",
   "metadata": {},
   "outputs": [],
   "source": [
    "nice_table(cal_info.loc[cal_info.marker_style == 'park_round'])\n",
    "\n",
    "print(\"\\nNumber of reports for each camera make/model:\")\n",
    "print(cal_info.loc[cal_info.marker_style == 'park_round'].value_counts('camera_name'))"
   ]
  },
  {
   "cell_type": "markdown",
   "id": "22da3c56-4d2b-49a6-8c75-68130f364eb6",
   "metadata": {},
   "source": [
    "## wild\n",
    "\n",
    "Print statistics tables for the following pattern types:\n",
    "\n",
    "- light_corner\n",
    "- wild_corner\n",
    "- wild_all_cross\n",
    "- wild_mid_crosshair\n",
    "- wild_all_crosshair\n",
    "\n",
    "Also print the count of camera names corresponding to each pattern."
   ]
  },
  {
   "cell_type": "code",
   "execution_count": null,
   "id": "6a80c394-ef65-406b-9c23-4aeb4a7a92f6",
   "metadata": {},
   "outputs": [],
   "source": [
    "nice_table(cal_info.loc[cal_info.marker_style == 'light_corner'])\n",
    "\n",
    "print(\"\\nNumber of reports for each camera make/model:\")\n",
    "print(cal_info.loc[cal_info.marker_style == 'light_corner'].value_counts('camera_name'))"
   ]
  },
  {
   "cell_type": "code",
   "execution_count": null,
   "id": "ad27c058-6de2-493c-8b26-f26e5e5bd62e",
   "metadata": {},
   "outputs": [],
   "source": [
    "nice_table(cal_info.loc[cal_info.marker_style == 'wild_corner'])\n",
    "\n",
    "print(\"\\nNumber of reports for each camera make/model:\")\n",
    "print(cal_info.loc[cal_info.marker_style == 'wild_corner'].value_counts('camera_name'))"
   ]
  },
  {
   "cell_type": "code",
   "execution_count": null,
   "id": "d1ae77d0-1584-4bdc-b4c8-21b4c0766d81",
   "metadata": {},
   "outputs": [],
   "source": [
    "nice_table(cal_info.loc[cal_info.marker_style == 'wild_all_cross'])\n",
    "\n",
    "print(\"\\nNumber of reports for each camera make/model:\")\n",
    "print(cal_info.loc[cal_info.marker_style == 'wild_all_cross'].value_counts('camera_name'))"
   ]
  },
  {
   "cell_type": "code",
   "execution_count": null,
   "id": "ec4bae68-8fe3-40ca-a446-1b0852c02f6e",
   "metadata": {},
   "outputs": [],
   "source": [
    "nice_table(cal_info.loc[cal_info.marker_style == 'wild_mid_crosshair'])\n",
    "\n",
    "print(\"\\nNumber of reports for each camera make/model:\")\n",
    "print(cal_info.loc[cal_info.marker_style == 'wild_mid_crosshair'].value_counts('camera_name'))"
   ]
  },
  {
   "cell_type": "code",
   "execution_count": null,
   "id": "cb5a808e-c2ec-486a-8582-8303626057a5",
   "metadata": {},
   "outputs": [],
   "source": [
    "nice_table(cal_info.loc[cal_info.marker_style == 'wild_all_crosshair'])\n",
    "\n",
    "print(\"\\nNumber of reports for each camera make/model:\")\n",
    "print(cal_info.loc[cal_info.marker_style == 'wild_all_crosshair'].value_counts('camera_name'))"
   ]
  },
  {
   "cell_type": "markdown",
   "id": "de38f5ba-721f-4ac5-b8e0-7e116cf5a0aa",
   "metadata": {},
   "source": [
    "## zeiss rmk\n",
    "\n",
    "Print statistics tables for the following pattern types:\n",
    "\n",
    "- zeiss_mid\n",
    "- zeiss_fixed\n",
    "- zeiss_float\n",
    "\n",
    "Also print the count of camera names corresponding to each pattern."
   ]
  },
  {
   "cell_type": "code",
   "execution_count": null,
   "id": "ac305881-b2a0-455b-be61-873257e94e6a",
   "metadata": {},
   "outputs": [],
   "source": [
    "nice_table(cal_info.loc[cal_info.marker_style == 'zeiss_mid'])\n",
    "\n",
    "print(\"\\nNumber of reports for each camera make/model:\")\n",
    "print(cal_info.loc[cal_info.marker_style == 'zeiss_mid'].value_counts('camera_name'))"
   ]
  },
  {
   "cell_type": "code",
   "execution_count": null,
   "id": "fa2650c5-5c3e-4e0e-bc78-8903618b47e0",
   "metadata": {},
   "outputs": [],
   "source": [
    "nice_table(cal_info.loc[cal_info.marker_style == 'zeiss_float'])\n",
    "\n",
    "print(\"\\nNumber of reports for each camera make/model:\")\n",
    "print(cal_info.loc[cal_info.marker_style == 'zeiss_float'].value_counts('camera_name'))"
   ]
  },
  {
   "cell_type": "code",
   "execution_count": null,
   "id": "942edc24-7a4d-4163-bc1e-d31f007c6775",
   "metadata": {},
   "outputs": [],
   "source": [
    "nice_table(cal_info.loc[cal_info.marker_style == 'zeiss_fixed'])\n",
    "\n",
    "print(\"\\nNumber of reports for each camera make/model:\")\n",
    "print(cal_info.loc[cal_info.marker_style == 'zeiss_fixed'].value_counts('camera_name'))"
   ]
  }
 ],
 "metadata": {
  "kernelspec": {
   "display_name": "Python 3 (ipykernel)",
   "language": "python",
   "name": "python3"
  },
  "language_info": {
   "codemirror_mode": {
    "name": "ipython",
    "version": 3
   },
   "file_extension": ".py",
   "mimetype": "text/x-python",
   "name": "python",
   "nbconvert_exporter": "python",
   "pygments_lexer": "ipython3",
   "version": "3.13.5"
  }
 },
 "nbformat": 4,
 "nbformat_minor": 5
}
