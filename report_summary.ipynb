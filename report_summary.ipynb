{
 "cells": [
  {
   "cell_type": "markdown",
   "id": "5fcc4c45-0a64-412c-a078-d4020f029139",
   "metadata": {},
   "source": [
    "# calibration report summary\n",
    "\n",
    "This notebook calculates summary information for `data/combined_reports.csv`, a collection of information manually extracted from\n",
    "the [USGS Camera Calibration Reports](https://calval.cr.usgs.gov/cameracal/reports.html) database"
   ]
  },
  {
   "cell_type": "code",
   "execution_count": 1,
   "id": "e9360f22-f13f-4839-a19f-ff4e49eea8cd",
   "metadata": {},
   "outputs": [],
   "source": [
    "import pandas as pd\n",
    "\n",
    "cal_info = pd.read_csv('data/combined_reports.csv')\n",
    "cal_info['camera_make'] = cal_info['camera_make'].fillna('').astype(str)\n",
    "cal_info['camera_model'] = cal_info['camera_model'].fillna('').astype(str)\n",
    "cal_info['camera_name'] = cal_info[['camera_make', 'camera_model']].agg(' '.join, axis=1).str.strip()\n",
    "\n",
    "cal_info = cal_info.drop_duplicates(subset=['cal_file', 'camera_name'])"
   ]
  },
  {
   "cell_type": "code",
   "execution_count": 2,
   "id": "58edc781-3d63-4ade-9b6b-042d0b1ff691",
   "metadata": {},
   "outputs": [
    {
     "name": "stdout",
     "output_type": "stream",
     "text": [
      "Total number of unique Calibration Reports: 1392.\n"
     ]
    }
   ],
   "source": [
    "print(f\"Total number of unique Calibration Reports: {len(cal_info)}.\")"
   ]
  },
  {
   "cell_type": "markdown",
   "id": "ff12e5c5-104a-4d73-835f-0b23f3219cfe",
   "metadata": {},
   "source": [
    "Number of reports by camera make/model:"
   ]
  },
  {
   "cell_type": "code",
   "execution_count": 3,
   "id": "c2e0d32d-ff5e-401b-82bc-31510bd37eb8",
   "metadata": {},
   "outputs": [
    {
     "name": "stdout",
     "output_type": "stream",
     "text": [
      "+----------------------------+---------+\n",
      "| camera_name                |   count |\n",
      "+============================+=========+\n",
      "| Wild Heerbrugg RC8         |     399 |\n",
      "+----------------------------+---------+\n",
      "| Park                       |     172 |\n",
      "+----------------------------+---------+\n",
      "| Fairchild K-17 (modified)  |     142 |\n",
      "+----------------------------+---------+\n",
      "| Zeiss RMK A 15/23          |      93 |\n",
      "+----------------------------+---------+\n",
      "| Fairchild T-12             |      84 |\n",
      "+----------------------------+---------+\n",
      "| Fairchild K-3B (modified)  |      78 |\n",
      "+----------------------------+---------+\n",
      "| Fairchild T-11             |      40 |\n",
      "+----------------------------+---------+\n",
      "| Fairchild K-17B (modified) |      32 |\n",
      "+----------------------------+---------+\n",
      "| Zeiss RMK 15/23            |      25 |\n",
      "+----------------------------+---------+\n",
      "| Wild Heerbrugg RC10        |      25 |\n",
      "+----------------------------+---------+\n",
      "| Fairchild T-5              |      22 |\n",
      "+----------------------------+---------+\n",
      "| Fairchild KC-1             |      22 |\n",
      "+----------------------------+---------+\n",
      "| K-24                       |      22 |\n",
      "+----------------------------+---------+\n",
      "| Aero/View Type 800         |      19 |\n",
      "+----------------------------+---------+\n",
      "| Park Twinplex              |      19 |\n",
      "+----------------------------+---------+\n",
      "| Wild Heerbrugg RC5         |      16 |\n",
      "+----------------------------+---------+\n",
      "| Fairchild K-17             |      15 |\n",
      "+----------------------------+---------+\n",
      "| Wild Heerbrugg RC9         |      14 |\n",
      "+----------------------------+---------+\n",
      "| Fairchild KC-1B            |      14 |\n",
      "+----------------------------+---------+\n",
      "| Smith                      |      13 |\n",
      "+----------------------------+---------+\n",
      "| Zeiss RMK A 21/23          |      12 |\n",
      "+----------------------------+---------+\n",
      "| Airagon                    |       9 |\n",
      "+----------------------------+---------+\n",
      "| Aero/View                  |       9 |\n",
      "+----------------------------+---------+\n",
      "| Aero                       |       9 |\n",
      "+----------------------------+---------+\n",
      "| Wild Heerbrugg RC5A        |       9 |\n",
      "+----------------------------+---------+\n",
      "| Fairchild F-225            |       6 |\n",
      "+----------------------------+---------+\n",
      "| Fairchild KC-1A            |       6 |\n",
      "+----------------------------+---------+\n",
      "| Fairchild F-224            |       5 |\n",
      "+----------------------------+---------+\n",
      "| Zeiss RMK A 8.5/23         |       5 |\n",
      "+----------------------------+---------+\n",
      "| Wild Heerbrugg RC5/8       |       5 |\n",
      "+----------------------------+---------+\n",
      "| Aero/View Type 600         |       5 |\n",
      "+----------------------------+---------+\n",
      "| Hurd                       |       5 |\n",
      "+----------------------------+---------+\n",
      "| WAC                        |       4 |\n",
      "+----------------------------+---------+\n",
      "| Fairchild KC-4B            |       4 |\n",
      "+----------------------------+---------+\n",
      "|                            |       3 |\n",
      "+----------------------------+---------+\n",
      "| Zeiss Jena MRB 15/2323     |       3 |\n",
      "+----------------------------+---------+\n",
      "| Fairchild KC-8             |       3 |\n",
      "+----------------------------+---------+\n",
      "| Fairchild KC-4             |       3 |\n",
      "+----------------------------+---------+\n",
      "| Fairchild K-17B            |       2 |\n",
      "+----------------------------+---------+\n",
      "| Fairchild K-17C (modified) |       2 |\n",
      "+----------------------------+---------+\n",
      "| Fairchild T-12A            |       2 |\n",
      "+----------------------------+---------+\n",
      "| Fairchild KC-4A            |       1 |\n",
      "+----------------------------+---------+\n",
      "| Aero/View Type 1200        |       1 |\n",
      "+----------------------------+---------+\n",
      "| Fairchild                  |       1 |\n",
      "+----------------------------+---------+\n",
      "| Fairchild KC-6A            |       1 |\n",
      "+----------------------------+---------+\n",
      "| Kargl                      |       1 |\n",
      "+----------------------------+---------+\n",
      "| Kargl K1C8                 |       1 |\n",
      "+----------------------------+---------+\n",
      "| Kargl K-17                 |       1 |\n",
      "+----------------------------+---------+\n",
      "| Wild Heerbrugg             |       1 |\n",
      "+----------------------------+---------+\n",
      "| Kargl K1C-8G-9             |       1 |\n",
      "+----------------------------+---------+\n",
      "| Zeiss Jena LMK 2000        |       1 |\n",
      "+----------------------------+---------+\n",
      "| Zeiss RMK 30/23            |       1 |\n",
      "+----------------------------+---------+\n",
      "| Zeiss RMK A 30/23          |       1 |\n",
      "+----------------------------+---------+\n",
      "| Zeiss RMK AR 15/23         |       1 |\n",
      "+----------------------------+---------+\n",
      "| Zeiss RMK AR 30/23         |       1 |\n",
      "+----------------------------+---------+\n",
      "| Zeiss RMK TOP 30           |       1 |\n",
      "+----------------------------+---------+\n"
     ]
    }
   ],
   "source": [
    "print(cal_info.value_counts('camera_name').to_markdown(tablefmt='grid'))"
   ]
  }
 ],
 "metadata": {
  "kernelspec": {
   "display_name": "Python 3 (ipykernel)",
   "language": "python",
   "name": "python3"
  },
  "language_info": {
   "codemirror_mode": {
    "name": "ipython",
    "version": 3
   },
   "file_extension": ".py",
   "mimetype": "text/x-python",
   "name": "python",
   "nbconvert_exporter": "python",
   "pygments_lexer": "ipython3",
   "version": "3.13.0"
  }
 },
 "nbformat": 4,
 "nbformat_minor": 5
}
